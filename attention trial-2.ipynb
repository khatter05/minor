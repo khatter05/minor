{
 "cells": [
  {
   "cell_type": "code",
   "execution_count": 29,
   "id": "e98bfc95",
   "metadata": {},
   "outputs": [],
   "source": [
    "import tensorflow as tf\n",
    "from keras.preprocessing.image import ImageDataGenerator\n",
    "from tensorflow.keras.layers import Attention\n",
    "from tensorflow.keras.models import Model\n",
    "from tensorflow.keras.layers import Input, Conv2D, MaxPooling2D, Flatten, Dense, Dropout"
   ]
  },
  {
   "cell_type": "code",
   "execution_count": 13,
   "id": "fbbc6f81",
   "metadata": {},
   "outputs": [
    {
     "name": "stdout",
     "output_type": "stream",
     "text": [
      "Found 927 images belonging to 2 classes.\n"
     ]
    }
   ],
   "source": [
    "# in order to make sure that all the input images are of same scale, we are using ImageDataGenerator (for data augmentation)\n",
    "train_datagen = ImageDataGenerator(rescale = 1./255,\n",
    "                                   vertical_flip = True,\n",
    "                                   horizontal_flip = True)\n",
    "training_set = train_datagen.flow_from_directory('output/train/',\n",
    "                                                 target_size = (32, 32),\n",
    "                                                 batch_size = 32,\n",
    "                                                 class_mode = 'binary')"
   ]
  },
  {
   "cell_type": "code",
   "execution_count": 14,
   "id": "45ef9bfe",
   "metadata": {},
   "outputs": [
    {
     "name": "stdout",
     "output_type": "stream",
     "text": [
      "Found 330 images belonging to 2 classes.\n"
     ]
    }
   ],
   "source": [
    "test_datagen = ImageDataGenerator(rescale = 1./255)\n",
    "test_set = test_datagen.flow_from_directory('output/val',\n",
    "                                            target_size = (32, 32),\n",
    "                                            batch_size = 32,\n",
    "                                            class_mode = 'binary')"
   ]
  },
  {
   "cell_type": "code",
   "execution_count": 30,
   "id": "d111cf4b",
   "metadata": {},
   "outputs": [],
   "source": [
    "inputs = Input((32, 32, 3))\n",
    "\n",
    "conv1 = Conv2D(filters = 16, kernel_size = (3, 3), activation = 'relu', padding='same')(inputs)\n",
    "maxpool1 = MaxPooling2D(pool_size = (2, 2), strides=(2, 2))(conv1)\n",
    "\n",
    "# attn1 = Attention(maxpool1, ))\n",
    "\n",
    "conv2 = Conv2D(filters = 32, kernel_size = (3, 3), activation = 'relu', padding='same')(maxpool1)\n",
    "maxpool2 = MaxPooling2D(pool_size = (2, 2), strides=(2, 2))(conv2)\n",
    "\n",
    "conv3 = Conv2D(filters = 64, kernel_size = (3, 3), activation = 'relu', padding='same')(maxpool2)\n",
    "maxpool3 = MaxPooling2D(pool_size = (2, 2), strides=(2, 2))(conv3)\n",
    "\n",
    "attn = Attention()([maxpool3, maxpool3])\n",
    "\n",
    "flattened = Flatten()(attn)\n",
    "\n",
    "fc1 = Dense(units = 128, activation = 'relu')(flattened)\n",
    "drop1 = Dropout(rate = 0.5)(fc1)\n",
    "\n",
    "final = Dense(units = 1,activation='sigmoid')(drop1)\n",
    "\n",
    "model = Model(inputs=inputs, outputs=final)"
   ]
  },
  {
   "cell_type": "code",
   "execution_count": 32,
   "id": "fada6ae4",
   "metadata": {},
   "outputs": [],
   "source": [
    "model.compile(optimizer = 'adadelta',\n",
    "            loss = 'binary_crossentropy',\n",
    "            metrics = ['accuracy'])"
   ]
  },
  {
   "cell_type": "code",
   "execution_count": 34,
   "id": "dc41be90",
   "metadata": {},
   "outputs": [
    {
     "name": "stdout",
     "output_type": "stream",
     "text": [
      "29/29 [==============================] - 186s 6s/step - loss: 0.7048 - accuracy: 0.4768 - val_loss: 0.7015 - val_accuracy: 0.4515\n"
     ]
    },
    {
     "data": {
      "text/plain": [
       "<keras.src.callbacks.History at 0x200b8c8e650>"
      ]
     },
     "execution_count": 34,
     "metadata": {},
     "output_type": "execute_result"
    }
   ],
   "source": [
    "model.fit(x = training_set, validation_data = test_set, epochs = 1)"
   ]
  },
  {
   "cell_type": "code",
   "execution_count": null,
   "id": "9a2422f7",
   "metadata": {},
   "outputs": [],
   "source": []
  }
 ],
 "metadata": {
  "kernelspec": {
   "display_name": "Python 3 (ipykernel)",
   "language": "python",
   "name": "python3"
  },
  "language_info": {
   "codemirror_mode": {
    "name": "ipython",
    "version": 3
   },
   "file_extension": ".py",
   "mimetype": "text/x-python",
   "name": "python",
   "nbconvert_exporter": "python",
   "pygments_lexer": "ipython3",
   "version": "3.11.5"
  }
 },
 "nbformat": 4,
 "nbformat_minor": 5
}
